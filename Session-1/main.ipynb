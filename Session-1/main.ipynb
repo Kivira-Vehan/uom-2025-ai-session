{
 "cells": [
  {
   "cell_type": "markdown",
   "id": "9753b902",
   "metadata": {},
   "source": [
    "**Intermediate Python Programming**\n",
    "\n",
    "- Functions, Types & Hints, Docstring\n",
    "- Errors and Exceptions\n",
    "- Exception Handling\n",
    "- Context Managers\n",
    "- Comprehension\n",
    "- Generators and Iterators\n",
    "- Decorators\n",
    "- Modules and Packages\n",
    "- Stdibs\n",
    "- Performance  (Numpy, Pandas) \n"
   ]
  },
  {
   "cell_type": "code",
   "execution_count": 16,
   "id": "97b3b61c",
   "metadata": {},
   "outputs": [
    {
     "name": "stdout",
     "output_type": "stream",
     "text": [
      "0\n"
     ]
    }
   ],
   "source": [
    "def hello_world(name: str) -> int:\n",
    "    \"\"\"A simple function that greets the person whose name is passed as an argument.\"\"\"\n",
    "    text = \"Hello, \" + name + \"!\"\n",
    "    return 0\n",
    "\n",
    "print(hello_world(\"Alice\"))"
   ]
  },
  {
   "cell_type": "code",
   "execution_count": 17,
   "id": "a56f9a3a",
   "metadata": {},
   "outputs": [
    {
     "data": {
      "text/plain": [
       "0"
      ]
     },
     "execution_count": 17,
     "metadata": {},
     "output_type": "execute_result"
    }
   ],
   "source": [
    "hello_world(\"Bob\")"
   ]
  },
  {
   "cell_type": "code",
   "execution_count": 18,
   "id": "ff90d0c4",
   "metadata": {},
   "outputs": [],
   "source": [
    "def hello_world(name: str) -> str:\n",
    "    \"\"\"Returns a greeting message for the given name.\"\"\"\n",
    "    try:\n",
    "        return \"Hello, \" + name + \"!\"\n",
    "    except Exception:\n",
    "        return \"Invalid input: name must be a string.\"\n",
    "    else:\n",
    "        return \"Function executed successfully.\"\n",
    "    finally:\n",
    "        print(\"Function executed.\")"
   ]
  },
  {
   "cell_type": "code",
   "execution_count": 19,
   "id": "ede23a6d",
   "metadata": {},
   "outputs": [
    {
     "name": "stdout",
     "output_type": "stream",
     "text": [
      "Function executed.\n"
     ]
    },
    {
     "data": {
      "text/plain": [
       "'Invalid input: name must be a string.'"
      ]
     },
     "execution_count": 19,
     "metadata": {},
     "output_type": "execute_result"
    }
   ],
   "source": [
    "hello_world(1)"
   ]
  },
  {
   "cell_type": "code",
   "execution_count": 20,
   "id": "3b1a8ecf",
   "metadata": {},
   "outputs": [
    {
     "data": {
      "text/plain": [
       "Exception"
      ]
     },
     "execution_count": 20,
     "metadata": {},
     "output_type": "execute_result"
    }
   ],
   "source": [
    "Exception"
   ]
  },
  {
   "cell_type": "code",
   "execution_count": 21,
   "id": "817273ab",
   "metadata": {},
   "outputs": [],
   "source": [
    "with open(\"example.txt\", \"w\") as file:\n",
    "    file.write(\"This is an example of using a context manager in Python.\\n\")"
   ]
  },
  {
   "cell_type": "code",
   "execution_count": 22,
   "id": "9200560c",
   "metadata": {},
   "outputs": [
    {
     "name": "stdout",
     "output_type": "stream",
     "text": [
      "Total: 499999500000\n",
      "Calculate sum: 0.0220 seconds\n"
     ]
    }
   ],
   "source": [
    "from contextlib import contextmanager\n",
    "import time\n",
    "\n",
    "@contextmanager\n",
    "def timer(label: str):\n",
    "    start = time.time()\n",
    "    try:\n",
    "        yield\n",
    "    finally:\n",
    "        end = time.time()\n",
    "        print(f\"{label}: {end - start:.4f} seconds\")\n",
    "\n",
    "with timer(\"Calculate sum\"):\n",
    "    total = sum(range(1, 1000000))\n",
    "    print(f\"Total: {total}\")"
   ]
  },
  {
   "cell_type": "code",
   "execution_count": 23,
   "id": "b368aede",
   "metadata": {},
   "outputs": [
    {
     "name": "stdout",
     "output_type": "stream",
     "text": [
      "0\n",
      "1\n",
      "2\n",
      "3\n",
      "4\n"
     ]
    }
   ],
   "source": [
    "for i in range(5):\n",
    "    print(i)"
   ]
  },
  {
   "cell_type": "code",
   "execution_count": 24,
   "id": "5b60ab09",
   "metadata": {},
   "outputs": [
    {
     "data": {
      "text/plain": [
       "<range_iterator at 0x257c77d60d0>"
      ]
     },
     "execution_count": 24,
     "metadata": {},
     "output_type": "execute_result"
    }
   ],
   "source": [
    "range(5).__iter__()"
   ]
  },
  {
   "cell_type": "code",
   "execution_count": 25,
   "id": "dc0f4e6e",
   "metadata": {},
   "outputs": [
    {
     "name": "stdout",
     "output_type": "stream",
     "text": [
      "['This is an example of using a context manager in Python.\\n']\n"
     ]
    }
   ],
   "source": [
    "with open(\"example.txt\", \"r\") as file:\n",
    "    lines = file.readlines()\n",
    "    print(lines)"
   ]
  },
  {
   "cell_type": "code",
   "execution_count": 26,
   "id": "e4525040",
   "metadata": {},
   "outputs": [],
   "source": [
    "def get_primes(n: int):\n",
    "    \"\"\"A generator function that yields prime numbers up to n.\"\"\"\n",
    "    for num in range(2, n + 1):\n",
    "        is_prime = True\n",
    "        for i in range(2, int(num**0.5) + 1):\n",
    "            if num % i == 0:\n",
    "                is_prime = False\n",
    "                break\n",
    "        if is_prime:\n",
    "            yield num"
   ]
  },
  {
   "cell_type": "code",
   "execution_count": 27,
   "id": "bcea09a9",
   "metadata": {},
   "outputs": [],
   "source": [
    "primes = get_primes(20)"
   ]
  },
  {
   "cell_type": "code",
   "execution_count": 28,
   "id": "a4aaea8c",
   "metadata": {},
   "outputs": [
    {
     "data": {
      "text/plain": [
       "2"
      ]
     },
     "execution_count": 28,
     "metadata": {},
     "output_type": "execute_result"
    }
   ],
   "source": [
    "primes.__next__()"
   ]
  },
  {
   "cell_type": "code",
   "execution_count": 29,
   "id": "a2c78743",
   "metadata": {},
   "outputs": [],
   "source": [
    "for prime in primes:\n",
    "    if prime < 10:\n",
    "        break\n",
    "    print(prime)"
   ]
  },
  {
   "cell_type": "code",
   "execution_count": 30,
   "id": "b710f991",
   "metadata": {},
   "outputs": [
    {
     "name": "stdout",
     "output_type": "stream",
     "text": [
      "The median is: <generator object moving_median at 0x00000257B0FBF760>\n"
     ]
    }
   ],
   "source": [
    "import statistics\n",
    "\n",
    "data = [1, 3, 3, 6, 7, 8, 9]\n",
    "median_value = statistics.median(data)\n",
    "print(f\"The median is: {median_value}\")"
   ]
  },
  {
   "cell_type": "markdown",
   "id": "58650a6f",
   "metadata": {},
   "source": [
    "Exercise\n",
    "\n",
    "Override the statistics.median function to compute the moving median of a list of numbers. (Hint: Use a generator to yield the median after each new number is added to the list.)"
   ]
  },
  {
   "cell_type": "code",
   "execution_count": 31,
   "id": "35a8f59a",
   "metadata": {},
   "outputs": [
    {
     "name": "stdout",
     "output_type": "stream",
     "text": [
      "The median is: <generator object moving_median at 0x00000257B0FBFAE0>\n",
      "Moving medians:\n",
      "<generator object moving_median at 0x00000257B0FBFE60>\n",
      "<generator object moving_median at 0x00000257C77EDE00>\n",
      "<generator object moving_median at 0x00000257B0FBFE60>\n",
      "<generator object moving_median at 0x00000257C77EDE00>\n",
      "<generator object moving_median at 0x00000257B0FBFE60>\n",
      "<generator object moving_median at 0x00000257C77EDE00>\n",
      "<generator object moving_median at 0x00000257B0FBFE60>\n"
     ]
    }
   ],
   "source": [
    "def moving_median(data):\n",
    "    \"\"\"A generator function that yields the moving median of a list of numbers.\"\"\"\n",
    "    sorted_data = []\n",
    "    for number in data:\n",
    "        sorted_data.append(number)\n",
    "        sorted_data.sort()\n",
    "        yield statistics.median(sorted_data)\n",
    "data = [1, 3, 3, 6, 7, 8, 9]\n",
    "median_value = statistics.median(data)\n",
    "print(f\"The median is: {median_value}\")\n",
    "moving_median_value = moving_median(data)\n",
    "print(\"Moving medians:\")\n",
    "for median in moving_median_value:\n",
    "    print(median)"
   ]
  },
  {
   "cell_type": "code",
   "execution_count": 32,
   "id": "90843cc4",
   "metadata": {},
   "outputs": [
    {
     "data": {
      "text/plain": [
       "<generator object moving_median at 0x00000257B0FBF760>"
      ]
     },
     "execution_count": 32,
     "metadata": {},
     "output_type": "execute_result"
    }
   ],
   "source": [
    "statistics.median = moving_median\n",
    "\n",
    "statistics.median(data)\n"
   ]
  },
  {
   "cell_type": "code",
   "execution_count": 33,
   "id": "d3f07f68",
   "metadata": {},
   "outputs": [
    {
     "name": "stdout",
     "output_type": "stream",
     "text": [
      "The median is: <generator object moving_median at 0x00000257C77EDE00>\n"
     ]
    }
   ],
   "source": [
    "\n",
    "data = [1, 3, 3, 6, 7, 8, 9]\n",
    "median_value = statistics.median(data)\n",
    "print(f\"The median is: {median_value}\")\n",
    "\n",
    "moving_median_value = moving_median(data)"
   ]
  },
  {
   "cell_type": "markdown",
   "id": "f62769b0",
   "metadata": {},
   "source": [
    "**Performance Optimization (Numpy, Pandas)**"
   ]
  },
  {
   "cell_type": "code",
   "execution_count": null,
   "id": "71fb2c85",
   "metadata": {},
   "outputs": [
    {
     "name": "stdout",
     "output_type": "stream",
     "text": [
      "^C\n"
     ]
    },
    {
     "name": "stdout",
     "output_type": "stream",
     "text": [
      "Requirement already satisfied: numpy in c:\\users\\kivir\\appdata\\local\\programs\\python\\python313\\lib\\site-packages (2.2.5)\n",
      "Requirement already satisfied: pandas in c:\\users\\kivir\\appdata\\local\\programs\\python\\python313\\lib\\site-packages (2.3.2)\n",
      "Requirement already satisfied: python-dateutil>=2.8.2 in c:\\users\\kivir\\appdata\\local\\programs\\python\\python313\\lib\\site-packages (from pandas) (2.9.0.post0)\n",
      "Requirement already satisfied: pytz>=2020.1 in c:\\users\\kivir\\appdata\\local\\programs\\python\\python313\\lib\\site-packages (from pandas) (2025.2)\n",
      "Requirement already satisfied: tzdata>=2022.7 in c:\\users\\kivir\\appdata\\local\\programs\\python\\python313\\lib\\site-packages (from pandas) (2025.2)\n",
      "Requirement already satisfied: six>=1.5 in c:\\users\\kivir\\appdata\\local\\programs\\python\\python313\\lib\\site-packages (from python-dateutil>=2.8.2->pandas) (1.17.0)\n"
     ]
    },
    {
     "name": "stderr",
     "output_type": "stream",
     "text": [
      "\n",
      "[notice] A new release of pip is available: 24.3.1 -> 25.2\n",
      "[notice] To update, run: python.exe -m pip install --upgrade pip\n"
     ]
    }
   ],
   "source": [
    "!pip install numpy pandas "
   ]
  },
  {
   "cell_type": "code",
   "execution_count": null,
   "id": "2875697a",
   "metadata": {},
   "outputs": [
    {
     "ename": "NameError",
     "evalue": "name 'timer' is not defined",
     "output_type": "error",
     "traceback": [
      "\u001b[1;31m---------------------------------------------------------------------------\u001b[0m",
      "\u001b[1;31mNameError\u001b[0m                                 Traceback (most recent call last)",
      "Cell \u001b[1;32mIn[15], line 11\u001b[0m\n\u001b[0;32m      8\u001b[0m \u001b[38;5;28;01mdef\u001b[39;00m\u001b[38;5;250m \u001b[39m\u001b[38;5;21mcalculate_matrix_product_np\u001b[39m(mat_1, mat_2):\n\u001b[0;32m      9\u001b[0m     \u001b[38;5;28;01mreturn\u001b[39;00m np\u001b[38;5;241m.\u001b[39mdot(mat_1, mat_2)\n\u001b[1;32m---> 11\u001b[0m \u001b[38;5;28;01mwith\u001b[39;00m \u001b[43mtimer\u001b[49m(\u001b[38;5;124m\"\u001b[39m\u001b[38;5;124mMatrix multiplication (NumPy)\u001b[39m\u001b[38;5;124m\"\u001b[39m):\n\u001b[0;32m     12\u001b[0m     product_np \u001b[38;5;241m=\u001b[39m calculate_matrix_product_np(mat_1_np, mat_2_np)\n\u001b[0;32m     13\u001b[0m     \u001b[38;5;28mprint\u001b[39m(\u001b[38;5;124m\"\u001b[39m\u001b[38;5;124mMatrix product (NumPy):\u001b[39m\u001b[38;5;124m\"\u001b[39m)\n",
      "\u001b[1;31mNameError\u001b[0m: name 'timer' is not defined"
     ]
    }
   ],
   "source": [
    "\n",
    "import numpy as np\n",
    "\n",
    "mat_1_np = np.array(mat_1)\n",
    "mat_2_np = np.array(mat_2)\n",
    "\n",
    "def calculate_matrix_product_np(mat_1, mat_2):\n",
    "    return np.dot(mat_1, mat_2)\n",
    "\n",
    "with timer(\"Matrix multiplication (NumPy)\"):\n",
    "    product_np = calculate_matrix_product_np(mat_1_np, mat_2_np)\n",
    "    print(\"Matrix product (NumPy):\")\n",
    "    print(product_np)"
   ]
  }
 ],
 "metadata": {
  "kernelspec": {
   "display_name": "Python 3",
   "language": "python",
   "name": "python3"
  },
  "language_info": {
   "codemirror_mode": {
    "name": "ipython",
    "version": 3
   },
   "file_extension": ".py",
   "mimetype": "text/x-python",
   "name": "python",
   "nbconvert_exporter": "python",
   "pygments_lexer": "ipython3",
   "version": "3.13.1"
  }
 },
 "nbformat": 4,
 "nbformat_minor": 5
}
